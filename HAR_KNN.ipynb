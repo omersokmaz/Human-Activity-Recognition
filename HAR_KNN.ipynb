{
 "cells": [
  {
   "cell_type": "code",
   "execution_count": 124,
   "id": "afb2f886",
   "metadata": {},
   "outputs": [],
   "source": [
    "import numpy as np\n",
    "import pandas as pd\n",
    "import itertools\n",
    "import matplotlib.pyplot as plt\n",
    "from sklearn.metrics import confusion_matrix\n",
    "from sklearn import metrics\n",
    "from datetime import datetime\n",
    "import seaborn as sns\n",
    "import warnings\n",
    "from sklearn import*\n",
    "from sklearn.model_selection import train_test_split\n",
    "from sklearn.decomposition import PCA\n",
    "from sklearn.neighbors import KNeighborsClassifier\n",
    "from sklearn.model_selection import KFold, cross_val_score\n",
    "\n",
    "warnings.filterwarnings('ignore')"
   ]
  },
  {
   "cell_type": "code",
   "execution_count": 75,
   "id": "ea7b8587",
   "metadata": {},
   "outputs": [
    {
     "name": "stdout",
     "output_type": "stream",
     "text": [
      "(7352, 563) (2947, 563)\n"
     ]
    }
   ],
   "source": [
    "#ilk çıktımız,train ve test datasetlerinin boyutlarını elde ettik\n",
    "train = pd.read_csv('train-1.csv')\n",
    "test = pd.read_csv('test.csv')\n",
    "print(train.shape, test.shape)"
   ]
  },
  {
   "cell_type": "code",
   "execution_count": 76,
   "id": "5b7285e0",
   "metadata": {},
   "outputs": [],
   "source": [
    "#iki verisetinin birleştirilmesi\n",
    "\n",
    "df=pd.concat([train, test], axis=0).reset_index(drop=True)"
   ]
  },
  {
   "cell_type": "code",
   "execution_count": 77,
   "id": "57f92370",
   "metadata": {},
   "outputs": [
    {
     "data": {
      "image/png": "[encoded data removed]",
      "text/plain": [
       "<Figure size 432x288 with 1 Axes>"
      ]
     },
     "metadata": {
      "needs_background": "light"
     },
     "output_type": "display_data"
    }
   ],
   "source": [
    "#ikinci çıktımız,birleştirdiğimiz verisetinin görselleştirilmesi\n",
    "ax =sns.countplot(x=(\"Activity\"),\n",
    "data=df, color=\"blue\", order=df['Activity'].value_counts().index)"
   ]
  },
  {
   "cell_type": "code",
   "execution_count": 78,
   "id": "abacdae3",
   "metadata": {},
   "outputs": [],
   "source": [
    "#verisetinden bağımlı değişken olan 'activity' kısmını atıyoruz\n",
    "X = df.drop(['Activity','subject'], axis = 1)\n",
    "y=df.Activity"
   ]
  },
  {
   "cell_type": "code",
   "execution_count": 79,
   "id": "8384d78f",
   "metadata": {},
   "outputs": [],
   "source": [
    "#Verimizi StandardScaler ile ölçeklendirdik\n",
    "from sklearn import preprocessing\n",
    "scaler = preprocessing.StandardScaler()\n",
    "scaled_x = scaler.fit_transform(X)\n"
   ]
  },
  {
   "cell_type": "code",
   "execution_count": 80,
   "id": "6e7082dc",
   "metadata": {},
   "outputs": [],
   "source": [
    "from sklearn.decomposition import PCA\n"
   ]
  },
  {
   "cell_type": "code",
   "execution_count": 81,
   "id": "aed26987",
   "metadata": {},
   "outputs": [],
   "source": [
    "#principal component analizi\n",
    "pca = PCA(n_components=100)\n",
    "pca.fit(scaled_x)\n",
    "X_pca=pca.transform(scaled_x)\n"
   ]
  },
  {
   "cell_type": "code",
   "execution_count": 34,
   "id": "ba782274",
   "metadata": {},
   "outputs": [
    {
     "data": {
      "text/plain": [
       "PCA(n_components=0.9)"
      ]
     },
     "execution_count": 34,
     "metadata": {},
     "output_type": "execute_result"
    }
   ],
   "source": [
    "#PCA için optimum component sayısını belirleme\n",
    "\"\"\"\n",
    "PCA(copy=True, iterated_power='auto', n_components=0.9, random_state=None,\n",
    "  svd_solver='auto', tol=0.0, whiten=False)"
   ]
  },
  {
   "cell_type": "code",
   "execution_count": 35,
   "id": "eb3f7802",
   "metadata": {},
   "outputs": [
    {
     "data": {
      "text/plain": [
       "100"
      ]
     },
     "execution_count": 35,
     "metadata": {},
     "output_type": "execute_result"
    }
   ],
   "source": [
    "\"\"\"\n",
    "pca.n_components_"
   ]
  },
  {
   "cell_type": "code",
   "execution_count": null,
   "id": "bf45ac54",
   "metadata": {},
   "outputs": [],
   "source": []
  },
  {
   "cell_type": "code",
   "execution_count": 11,
   "id": "e46cec23",
   "metadata": {},
   "outputs": [
    {
     "data": {
      "text/plain": [
       "(10299, 561)"
      ]
     },
     "execution_count": 11,
     "metadata": {},
     "output_type": "execute_result"
    }
   ],
   "source": [
    "X.shape"
   ]
  },
  {
   "cell_type": "code",
   "execution_count": 12,
   "id": "3a6581b7",
   "metadata": {},
   "outputs": [
    {
     "data": {
      "text/plain": [
       "(10299, 561)"
      ]
     },
     "execution_count": 12,
     "metadata": {},
     "output_type": "execute_result"
    }
   ],
   "source": [
    "scaled_x.shape"
   ]
  },
  {
   "cell_type": "code",
   "execution_count": 13,
   "id": "ba537a8f",
   "metadata": {},
   "outputs": [
    {
     "data": {
      "text/plain": [
       "(10299, 100)"
      ]
     },
     "execution_count": 13,
     "metadata": {},
     "output_type": "execute_result"
    }
   ],
   "source": [
    "X_pca.shape"
   ]
  },
  {
   "cell_type": "code",
   "execution_count": 82,
   "id": "6f288457",
   "metadata": {},
   "outputs": [],
   "source": [
    "#modelimizi train ve test kısımlarına bölüyoruz\n",
    "from sklearn.model_selection import train_test_split\n",
    "X_train, X_test, y_train, y_test = train_test_split(X_pca, y, test_size = 0.30, random_state = 42)"
   ]
  },
  {
   "cell_type": "code",
   "execution_count": 136,
   "id": "b053e1f9",
   "metadata": {},
   "outputs": [
    {
     "data": {
      "text/plain": [
       "KNeighborsClassifier(n_neighbors=6, p=1, weights='distance')"
      ]
     },
     "execution_count": 136,
     "metadata": {},
     "output_type": "execute_result"
    }
   ],
   "source": [
    "#KNN classifierı oluşturma\n",
    "from sklearn.neighbors import KNeighborsClassifier\n",
    "from sklearn.model_selection import KFold, cross_val_score\n",
    "classifier = KNeighborsClassifier(algorithm= 'auto',n_neighbors= 6, p= 1, weights= 'distance')\n",
    "classifier.fit(X_train, y_train)"
   ]
  },
  {
   "cell_type": "code",
   "execution_count": 137,
   "id": "e8a69bc7",
   "metadata": {},
   "outputs": [],
   "source": [
    "#tahmin yapma\n",
    "y_pred = classifier.predict(X_test)"
   ]
  },
  {
   "cell_type": "code",
   "execution_count": 119,
   "id": "b0e3ea51",
   "metadata": {},
   "outputs": [
    {
     "data": {
      "text/plain": [
       "array(['WALKING', 'LAYING', 'STANDING', ..., 'SITTING', 'STANDING',\n",
       "       'WALKING_UPSTAIRS'], dtype=object)"
      ]
     },
     "execution_count": 119,
     "metadata": {},
     "output_type": "execute_result"
    }
   ],
   "source": [
    "y_pred"
   ]
  },
  {
   "cell_type": "code",
   "execution_count": 111,
   "id": "d3d4fcff",
   "metadata": {},
   "outputs": [
    {
     "data": {
      "text/plain": [
       "5804             WALKING\n",
       "3688              LAYING\n",
       "7360            STANDING\n",
       "3437            STANDING\n",
       "8193             WALKING\n",
       "              ...       \n",
       "4786              LAYING\n",
       "164     WALKING_UPSTAIRS\n",
       "6857             SITTING\n",
       "2715            STANDING\n",
       "9187    WALKING_UPSTAIRS\n",
       "Name: Activity, Length: 3090, dtype: object"
      ]
     },
     "execution_count": 111,
     "metadata": {},
     "output_type": "execute_result"
    }
   ],
   "source": [
    "y_test"
   ]
  },
  {
   "cell_type": "code",
   "execution_count": 138,
   "id": "98e3137c",
   "metadata": {},
   "outputs": [
    {
     "name": "stdout",
     "output_type": "stream",
     "text": [
      "Confusion matrix:\n",
      "[[592   2   3   0   0   0]\n",
      " [  3 494  63   0   0   3]\n",
      " [  0  32 515   0   0   0]\n",
      " [  0   0   0 536   2   1]\n",
      " [  0   0   0   6 410   4]\n",
      " [  0   0   0   1   0 423]]\n",
      "accuracy score:\n",
      "0.9611650485436893\n",
      "f1 score: \n",
      "0.9611650485436893\n",
      "Classification Report:\n",
      "                    precision    recall  f1-score   support\n",
      "\n",
      "            LAYING       0.99      0.99      0.99       597\n",
      "           SITTING       0.94      0.88      0.91       563\n",
      "          STANDING       0.89      0.94      0.91       547\n",
      "           WALKING       0.99      0.99      0.99       539\n",
      "WALKING_DOWNSTAIRS       1.00      0.98      0.99       420\n",
      "  WALKING_UPSTAIRS       0.98      1.00      0.99       424\n",
      "\n",
      "          accuracy                           0.96      3090\n",
      "         macro avg       0.96      0.96      0.96      3090\n",
      "      weighted avg       0.96      0.96      0.96      3090\n",
      "\n"
     ]
    }
   ],
   "source": [
    "#üçüncü çıktımız\n",
    "#tahmin doğrulumuz için gerekli çıktıları ürettik\n",
    "from sklearn.metrics import confusion_matrix,accuracy_score,f1_score, classification_report\n",
    "cm = confusion_matrix(y_test, y_pred)\n",
    "acc=accuracy_score(y_test, y_pred)\n",
    "f1=f1_score(y_test, y_pred,average='micro')\n",
    "print('Confusion matrix:')\n",
    "print(cm)\n",
    "print('accuracy score:')\n",
    "print(acc)\n",
    "print('f1 score: ')\n",
    "print(f1)\n",
    "print(\"Classification Report:\")\n",
    "crep=classification_report(y_test, y_pred)\n",
    "\n",
    "print(crep)"
   ]
  },
  {
   "cell_type": "code",
   "execution_count": 69,
   "id": "12ecba69",
   "metadata": {},
   "outputs": [
    {
     "data": {
      "text/plain": [
       "<AxesSubplot:>"
      ]
     },
     "execution_count": 69,
     "metadata": {},
     "output_type": "execute_result"
    },
    {
     "data": {
      "image/png": "[encoded data removed]",
      "text/plain": [
       "<Figure size 432x288 with 2 Axes>"
      ]
     },
     "metadata": {
      "needs_background": "light"
     },
     "output_type": "display_data"
    }
   ],
   "source": [
    "#dördüncü çıktımız,seaborn ile heatmap oluşturduk\n",
    "sns.heatmap(cm)"
   ]
  },
  {
   "cell_type": "code",
   "execution_count": 132,
   "id": "f2b0636c",
   "metadata": {},
   "outputs": [],
   "source": [
    "#elbow metodu ile optimum k seçimi\n",
    "def Elbow(K): \n",
    "    test_error = [] \n",
    "    \n",
    "    for i in K:\n",
    "        classifier=KNeighborsClassifier(algorithm='auto',n_neighbors= i, p= 1,weights= 'distance')\n",
    "        classifier.fit(X_train, y_train)\n",
    "        new_pred = classifier.predict(X_test)\n",
    "        new_pred = f1_score(new_pred, y_test,average='micro')\n",
    "        error = 1 - new_pred\n",
    "        test_error.append(error)\n",
    "        \n",
    "    return test_error"
   ]
  },
  {
   "cell_type": "code",
   "execution_count": 133,
   "id": "3def286c",
   "metadata": {},
   "outputs": [],
   "source": [
    "k = range(1,10)\n",
    "test = Elbow(k)"
   ]
  },
  {
   "cell_type": "code",
   "execution_count": 134,
   "id": "9676c228",
   "metadata": {},
   "outputs": [
    {
     "data": {
      "text/plain": [
       "Text(0, 0.5, 'Errors')"
      ]
     },
     "execution_count": 134,
     "metadata": {},
     "output_type": "execute_result"
    },
    {
     "data": {
      "image/png": "[encoded data removed]",
      "text/plain": [
       "<Figure size 432x288 with 1 Axes>"
      ]
     },
     "metadata": {
      "needs_background": "light"
     },
     "output_type": "display_data"
    }
   ],
   "source": [
    "plt.plot(k, test)\n",
    "plt.xlabel('K Values')\n",
    "plt.ylabel('Errors')"
   ]
  },
  {
   "cell_type": "code",
   "execution_count": 135,
   "id": "9021df35",
   "metadata": {},
   "outputs": [
    {
     "data": {
      "text/plain": [
       "Text(0, 0.5, 'Accuracy')"
      ]
     },
     "execution_count": 135,
     "metadata": {},
     "output_type": "execute_result"
    },
    {
     "data": {
      "image/png": "[encoded data removed]",
      "text/plain": [
       "<Figure size 720x432 with 1 Axes>"
      ]
     },
     "metadata": {
      "needs_background": "light"
     },
     "output_type": "display_data"
    }
   ],
   "source": [
    "#optimum k seçiminin accuracy'e göre yapılması\n",
    "acc_arr=[]\n",
    "for i in range(1,10):\n",
    "    n =KNeighborsClassifier(algorithm= 'auto',n_neighbors= i, p= 1, weights= 'distance').fit(X_train,y_train)\n",
    "    yh = n.predict(X_test)\n",
    "    acc_arr.append(metrics.accuracy_score(y_test, yh))\n",
    "    \n",
    "plt.figure(figsize=(10,6))\n",
    "plt.plot(range(1,10),acc_arr,color = 'black',linestyle='dashed', \n",
    "         marker='o',markerfacecolor='red', markersize=10)\n",
    "plt.title('accuracy vs. K Value')\n",
    "plt.xlabel('K')\n",
    "plt.ylabel('Accuracy')\n"
   ]
  },
  {
   "cell_type": "code",
   "execution_count": null,
   "id": "f78cc662",
   "metadata": {},
   "outputs": [],
   "source": []
  },
  {
   "cell_type": "code",
   "execution_count": null,
   "id": "48811350",
   "metadata": {},
   "outputs": [],
   "source": []
  },
  {
   "cell_type": "code",
   "execution_count": null,
   "id": "fc5030ab",
   "metadata": {},
   "outputs": [],
   "source": []
  }
 ],
 "metadata": {
  "kernelspec": {
   "display_name": "Python 3",
   "language": "python",
   "name": "python3"
  },
  "language_info": {
   "codemirror_mode": {
    "name": "ipython",
    "version": 3
   },
   "file_extension": ".py",
   "mimetype": "text/x-python",
   "name": "python",
   "nbconvert_exporter": "python",
   "pygments_lexer": "ipython3",
   "version": "3.8.8"
  }
 },
 "nbformat": 4,
 "nbformat_minor": 5
}
